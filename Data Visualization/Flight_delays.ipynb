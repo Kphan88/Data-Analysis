{
 "cells": [
  {
   "cell_type": "markdown",
   "metadata": {},
   "source": [
    "# Lab One: Visualization and Data Preprocessing\n",
    "\n",
    "\n",
    "\n",
    "### Business Understanding\n",
    "\n",
    "The purpose of this dataset is to describe the operational performance of domestic U.S. airlines flights in terms of delays and cancellations. The data collected describes flights during 2015, flown by the operating carrier. The operating carrier is indicated by the International Air Transport Association, or IATA, two letter carrier code. These codes are less recognizable than the common brand names, so we will provide a table detailing which code relates to which airline brand in the \"Data Meaning Type\" section. The distinction between \"operating\" and \"marketing\" carrier is an important one in the airline industry, but that will be discussed in more detail in the \"Data Quality\" section.\n",
    "\n",
    "The practical use of this dataset is to help describe flight delays. To identify this, we will focus on arrival delays (as opposed to departure delays) as they are more impactful to a customer's plans and possible flight connections. To identify a flight as delayed, we will use the industry standard of a flight arriving 15 minutes or later than it's scheduled arrival time is determined to be \"delayed\" (why is the industry standard not more than 0 minutes after it's scheduled arrival time...good question). A good prediction algorithm would be able to predict the likelihood that a flight was delayed depending on the airline and route. "
   ]
  },
  {
   "cell_type": "markdown",
   "metadata": {},
   "source": [
    "### Data Meaning Type\n",
    "\n",
    "In this section we will provide a quick table to identify IATA carrier codes with more common brand names of the airlines. Additionally, we will provide a descripton of every field in the data set as well as its data type.\n",
    "\n",
    "#### Airline Codes and Names\n",
    "\n",
    " - AA - American Airlines (later merged with US - US Airways)\n",
    " - AS - Alaska Airlines (later merged with VX - Virgin America)\n",
    " - B6 - JetBlue Airways\n",
    " - DL - Delta Air Lines\n",
    " - EV - Atlantic south East Airlines (a carrier that leases out much of its capacity)\n",
    " - F9 - Frontier Airlines\n",
    " - HA - Hawaiian Airlines\n",
    " - MQ - American Eagle Airlines (a subsidiary of American Airlines)\n",
    " - NK - Spirit Air Lines\n",
    " - OO - SkyWest Airlines (a carrier that leases out much of its capacity)\n",
    " - UA - United Airlines\n",
    " - US - US Airways (later merged with American Airlines)\n",
    " - VX - Virgin America (later megred with Alaska Airlines)\n",
    " - WN - Southwest Airlines"
   ]
  },
  {
   "cell_type": "markdown",
   "metadata": {},
   "source": [
    "An index of these airlines codes will be made for ease in interpretting plots when generating visualizations based on airline code. "
   ]
  },
  {
   "cell_type": "code",
   "execution_count": null,
   "metadata": {
    "collapsed": false
   },
   "outputs": [],
   "source": [
    "import pandas as pd\n",
    "\n",
    "airlines = pd.read_csv('data/airlines.csv')\n",
    "\n",
    "airlines_full_name = airlines.set_index('IATA_CODE')['AIRLINE'].to_dict()\n",
    "airlines_full_name"
   ]
  },
  {
   "cell_type": "markdown",
   "metadata": {},
   "source": [
    "#### Data Fields Definitions and Types\n",
    " - Year - an integer value representing the year the flight departed\n",
    " - Month - an integer value representing the month the flight departed\n",
    " - Day - an integer value representing the day of the month the flight departed\n",
    " - Day_Of_Week - an integer value representing the day of week, 1 = Monday, 7 = Sunday (the rest follow sequentially from one, so 2 = Tuesday, 3 = Wednesday, etc.)\n",
    " - Airline - String field showing the IATA code for the airline that operated the flight\n",
    " \n",
    " - Flight_Number - an integer value identifying the flight, it is rarely, but sometimes repeated, on a single day for a single airline\n",
    " \n",
    " - Tail_number - an alpha-numeric string value that uniquely identifies the aircraft which operated the flight\n",
    " \n",
    " - Origin_airport - a string field showing the 3 letter airport code from which the flight departed\n",
    " \n",
    " - Destination_airport - a string field showing the 3 letter airport code of the arrivale airport\n",
    " \n",
    " - Scheduled_departure - an integer value of the scheduled departure time (24-hour clock)\n",
    " \n",
    " - Departure_time - an integer value of the actual departure time (24-hour clock)\n",
    " \n",
    " - Departure_delay - an integer value representing the departure delay in minutes, negative values represent flights that departed early\n",
    " \n",
    " - Taxi_out - an integer value representing the time in mintues it took the aircraft to travel from the departing gate to the the runway for take-off\n",
    " \n",
    " - Wheels_off - an integer value reprsenting the time (24-hour clock) that the plane's wheel actually left the ground\n",
    " \n",
    " - Scheduled_time - an integer value representing the time in minutes that was scheduled for the flight's travel\n",
    " - Elapsed_time - an integer value representing the actual time in minutes that elapsed during the flight\n",
    " - Air_time - an integer value representing the time in minutes the flight was in the air\n",
    " - Distance - an integer value representing the great circle miles the aircraft traveled (great circle miles are the distance it takes to travel around a sphere, or in this case, the globe)\n",
    " - Wheels_on - an integer value representing the time (24-hour clock) that the flight's wheels touched down at the arrival airport\n",
    " - Taxi_in - an integer value representing the minutes it took for the flight to travel from \"wheels_on\" to arriving at the arrival gate\n",
    " - Scheduled_arrival - an integer value representing the time (24-hour clock) that the flight was scheduled to arrive\n",
    " - Arrival_time - an integer value representing the actual time (24-hour clock) that the flight arrived at the arrival gate\n",
    " - Arrival_delay - an integer value representing the delay between actual arrive and scheduled arrival, early arrivals are reprsented by negative values\n",
    " - Diverted - a boolean value indicating whether or not the flight was diverted. 0 means the flight was not diverted, 1 means that the flight was diverted. Many things can cause diversions, but bad weather at the arrival airport is the most common cause.\n",
    " - Cancelled - a boolean value indicating whether or not the flight was cancelled. 0 means the flight was not cancelled, 1 means that the flight was cancelled.\n",
    " - Cancellation_reason - a string value showing the code for the reason a flight was cancelled. A = Airline/Carrier; B = Weather; C = National Air System; D = Security. A blank value means that the flight was not cancelled for any reason.\n",
    " - Air_system_delay - an integer value representing the minutes that a flight was delayed due to the air traffic control system. A missing value means that the flight was delayed 15 minutes or less.\n",
    " - Security_delay - an integer value representing the minutes that a flight was delayed due security at the airport. A missing value means that the flight was delayed 15 minutes or less.\n",
    " - Airline_delay - an integer value representing the minutes that a flight was delayed due to an airline issue. A missing value means that the flight was delayed 15 minutes or less.\n",
    " - Late_aircraft_delay - an integer value representing the minutes that a flight was delayed due to a late arriving aircraft. A missing value means that the flight was delayed 15 minutes or less.\n",
    " - Weather_delay - an integer value representing the minutes that a flight was delayed due to weather. A missing value means that the flight was delayed 15 minutes or less.\n"
   ]
  },
  {
   "cell_type": "markdown",
   "metadata": {},
   "source": [
    "### Data Quality\n",
    "\n",
    "As mentioned in an earlier section, the data collected describes flights during 2015. One thing to note is that due to US Department of Transportation (DOT) regulations, any airline with at least one percent of total domestic scheduled-service passenger revenues must report on-time data. This means that while all of the major airlines are covered in this data set, it does not describe all of the domestic air travel performance during 2015.\n",
    "\n",
    "Additionally, the data is reported in terms of operating carrier. A common practice, especially among larger air carriers, is to supplement their service and route network by leasing air service from smaller carriers who have smaller aircraft better suited to serving less populous cities. This means that there is a small difference between between the operational performance this data describes and how a consumer may think of an airline's operational performace. An example will help illustrate the point.\n",
    "\n",
    "SkyWest Airlines (carrier code \"OO\") partners with United Airlines, Delta Air Lines, American Airlines, and Alaska Airlines to provide leased air service under each of those various larger carriers' brands. Additionally, smaller, lease focused carriers like SkyWest will sometimes fly under their own brand. So in the dataset used in this project a delayed flight may have a carrier code of \"OO\", which identifies that it was a SkyWest flight, even though it was flown under United Airlines brand, and the customers who flew on that flight had purchased a United Airlines ticket. The dataset uses the IATA (International Air Transport Association) code to identify the unique airlines. While this makes sense for an industry dataset, it may not be immediately intuitive for most consumers.\n",
    "\n",
    "Finally, as a result of how regulated the airline industry is, the reporting of this data is highly structured and mandated by the DOT. Additionally, because this information must be reported regularly and in a timely basis, the collection of the data is automated in most cases. The end result is that the data set has fewer occurences of erroneous responses, or missing responses than many others. There are a few cases where the airport is not known. Because of the variation depending on many different factors, we did not feel that imputing a value, or erroneously assigning an airport to that record, made sense. We have left these as blank. One of the few concerns with the data is that several fields in the set are only triggered if a delay occurs. For flights in which a delay did not occur, the field is left \"blank\". For the purposes of analysis, this is the equivalent of a zero minute delay. The fields in which this is a concern are listed below:\n",
    "\n",
    " - Cancellation_reason\n",
    " - Air_system_delay\n",
    " - Security_delay\n",
    " - Airline_delay\n",
    " - Late_aircraft_delay\n",
    " - Weather_delay\n",
    " \n",
    "To clean the data we will replace all blank values with a 0."
   ]
  },
  {
   "cell_type": "code",
   "execution_count": null,
   "metadata": {
    "collapsed": false,
    "scrolled": true
   },
   "outputs": [],
   "source": [
    "###reading in the data\n",
    "df = pd.read_csv('data/flights.csv', low_memory=False)\n",
    "df.head(10)"
   ]
  },
  {
   "cell_type": "markdown",
   "metadata": {},
   "source": [
    "As we can see in the first few rows of the dataset read in above, the columns at the far right of the dataset have been read in as \"NaN\", or \"Not a Number\" in the cases of missing values. We will now replace those with 0."
   ]
  },
  {
   "cell_type": "code",
   "execution_count": null,
   "metadata": {
    "collapsed": false,
    "scrolled": true
   },
   "outputs": [],
   "source": [
    "df.fillna(0, inplace=True)\n",
    "df.head(10)"
   ]
  },
  {
   "cell_type": "markdown",
   "metadata": {},
   "source": [
    "As we can see, the missing values have been replaced with 0s. Because the only reason a numerical field should have a missing value in this data set is due to the value being the equivalent of 0, we do not have specify rows or columns, and can accomplish this in a very simple line of code, as seen above."
   ]
  },
  {
   "cell_type": "markdown",
   "metadata": {},
   "source": [
    "The final concern with the data is not related to the quality, but rather the size. In its raw form the dataset has 5,819,079 records and 31 columns. While such a dataset is not so large that it could not be used, it is too large to post on our GitHub repository.  Therefore, we decided to focus on a subset of airports to make the visualizations easier to extract meaning from, and to ease the computational burden. The airports we chose to focus on were:\n",
    "\n",
    " - SFO (San Francisco International Airport)\n",
    " - MDW (Chicago Midway International Airport)\n",
    " - LGA (Laguadia International Airport, New York)\n",
    " \n",
    "These airports represented several advatages as a subset. One is that they easy represent a different region of the country (West, Central, East). Another is that they are large airport with many daily flights from all over the country. This means that our data subset will have a sample of flights from many regions. Finally, this subset of airports is served by a wide range of airlines. United Airlines has a \"hub\" operation (a large number of flights going in and out of the same airport timed such that the flights can \"feed\" each other) at SFO. Southwest Airlines, while not techincally a hub carrier, has a significant operation at MDW. And just about all major US airlines have significant operations to and from LGA as it is one of the main airports serving New York city."
   ]
  },
  {
   "cell_type": "markdown",
   "metadata": {},
   "source": [
    "To accomplish this, we are first going to import all of the libraries that we will use throughout the remainder of this analysis:"
   ]
  },
  {
   "cell_type": "code",
   "execution_count": 1,
   "metadata": {
    "collapsed": true
   },
   "outputs": [],
   "source": [
    "import pandas as pd\n",
    "import numpy as np\n",
    "import matplotlib.pyplot as plt\n",
    "import seaborn as sns\n",
    "%matplotlib inline"
   ]
  },
  {
   "cell_type": "markdown",
   "metadata": {},
   "source": [
    "Then we add an indicator variable to our dataset to for flights which meet the industry standard to be considered \"delayed\", which is more than 15 minutes after the scheduled arrival time:"
   ]
  },
  {
   "cell_type": "code",
   "execution_count": null,
   "metadata": {
    "collapsed": false,
    "scrolled": true
   },
   "outputs": [],
   "source": [
    "df.loc[df['ARRIVAL_DELAY']>15,'DELAYED'] = 1\n",
    "df.loc[df['ARRIVAL_DELAY']<=15,'DELAYED'] = 0\n",
    "df.head(10)"
   ]
  },
  {
   "cell_type": "markdown",
   "metadata": {},
   "source": [
    "Before we subset our data there is one last data quality issue to address. The data is generally very clean, and error was made when the raw data was formatted. For the month of October the three letter airport codes are shown as five digit numbers. To correct for this we looked up the which numbers correspond to the airports we are going to subset our data for and will replace the numbers with the more common three letter code that every month has."
   ]
  },
  {
   "cell_type": "code",
   "execution_count": null,
   "metadata": {
    "collapsed": true
   },
   "outputs": [],
   "source": [
    "df['ORIGIN_AIRPORT'].replace(['14771','13232','12953'],['SFO','MDW','LGA'],inplace=True)"
   ]
  },
  {
   "cell_type": "markdown",
   "metadata": {},
   "source": [
    "Now we subset this to only include the following origin airports: SFO, MDW, and LGA."
   ]
  },
  {
   "cell_type": "code",
   "execution_count": null,
   "metadata": {
    "collapsed": false,
    "scrolled": true
   },
   "outputs": [],
   "source": [
    "a=['SFO','MDW','LGA']\n",
    "\n",
    "df_sub=df[df['ORIGIN_AIRPORT'].isin(a)]\n",
    "\n",
    "df_sub.DIVERTED.unique(),df_sub.CANCELLED.unique()\n",
    "\n",
    "del df_sub['CANCELLED'],\n",
    "\n",
    "del df_sub['DIVERTED'],\n",
    "\n",
    "del df_sub['CANCELLATION_REASON']\n",
    "\n",
    "df_sub.info()"
   ]
  },
  {
   "cell_type": "markdown",
   "metadata": {},
   "source": [
    "Finally, we export our dataframe out to a .csv file to use on our GitHub repository.  The original dataset in its entirity can be found at https://www.kaggle.com/usdot/flight-delays/data"
   ]
  },
  {
   "cell_type": "code",
   "execution_count": null,
   "metadata": {
    "collapsed": true
   },
   "outputs": [],
   "source": [
    "#Writing data to csv\n",
    "\n",
    "df_sub.to_csv(\"data/Airline_Dataset_LGA_MDW_SFO.csv\", sep=',')"
   ]
  },
  {
   "cell_type": "markdown",
   "metadata": {},
   "source": [
    "The data subset is read in from our GitHub repository.  At this point in the notebook, all work is repeatable internally.  To properly subset the original dataset as shown above, the flights.csv file put be downloaded from the link provided and placed in the data folder of this file structure."
   ]
  },
  {
   "cell_type": "code",
   "execution_count": 4,
   "metadata": {
    "collapsed": false
   },
   "outputs": [
    {
     "data": {
      "text/html": [
       "<div>\n",
       "<style>\n",
       "    .dataframe thead tr:only-child th {\n",
       "        text-align: right;\n",
       "    }\n",
       "\n",
       "    .dataframe thead th {\n",
       "        text-align: left;\n",
       "    }\n",
       "\n",
       "    .dataframe tbody tr th {\n",
       "        vertical-align: top;\n",
       "    }\n",
       "</style>\n",
       "<table border=\"1\" class=\"dataframe\">\n",
       "  <thead>\n",
       "    <tr style=\"text-align: right;\">\n",
       "      <th></th>\n",
       "      <th>Unnamed: 0</th>\n",
       "      <th>YEAR</th>\n",
       "      <th>MONTH</th>\n",
       "      <th>DAY</th>\n",
       "      <th>DAY_OF_WEEK</th>\n",
       "      <th>AIRLINE</th>\n",
       "      <th>FLIGHT_NUMBER</th>\n",
       "      <th>TAIL_NUMBER</th>\n",
       "      <th>ORIGIN_AIRPORT</th>\n",
       "      <th>DESTINATION_AIRPORT</th>\n",
       "      <th>...</th>\n",
       "      <th>TAXI_IN</th>\n",
       "      <th>SCHEDULED_ARRIVAL</th>\n",
       "      <th>ARRIVAL_TIME</th>\n",
       "      <th>ARRIVAL_DELAY</th>\n",
       "      <th>AIR_SYSTEM_DELAY</th>\n",
       "      <th>SECURITY_DELAY</th>\n",
       "      <th>AIRLINE_DELAY</th>\n",
       "      <th>LATE_AIRCRAFT_DELAY</th>\n",
       "      <th>WEATHER_DELAY</th>\n",
       "      <th>DELAYED</th>\n",
       "    </tr>\n",
       "  </thead>\n",
       "  <tbody>\n",
       "    <tr>\n",
       "      <th>0</th>\n",
       "      <td>2</td>\n",
       "      <td>2015</td>\n",
       "      <td>1</td>\n",
       "      <td>1</td>\n",
       "      <td>4</td>\n",
       "      <td>US</td>\n",
       "      <td>840</td>\n",
       "      <td>N171US</td>\n",
       "      <td>SFO</td>\n",
       "      <td>CLT</td>\n",
       "      <td>...</td>\n",
       "      <td>11.0</td>\n",
       "      <td>806</td>\n",
       "      <td>811.0</td>\n",
       "      <td>5.0</td>\n",
       "      <td>0.0</td>\n",
       "      <td>0.0</td>\n",
       "      <td>0.0</td>\n",
       "      <td>0.0</td>\n",
       "      <td>0.0</td>\n",
       "      <td>0.0</td>\n",
       "    </tr>\n",
       "    <tr>\n",
       "      <th>1</th>\n",
       "      <td>5</td>\n",
       "      <td>2015</td>\n",
       "      <td>1</td>\n",
       "      <td>1</td>\n",
       "      <td>4</td>\n",
       "      <td>DL</td>\n",
       "      <td>806</td>\n",
       "      <td>N3730B</td>\n",
       "      <td>SFO</td>\n",
       "      <td>MSP</td>\n",
       "      <td>...</td>\n",
       "      <td>6.0</td>\n",
       "      <td>602</td>\n",
       "      <td>610.0</td>\n",
       "      <td>8.0</td>\n",
       "      <td>0.0</td>\n",
       "      <td>0.0</td>\n",
       "      <td>0.0</td>\n",
       "      <td>0.0</td>\n",
       "      <td>0.0</td>\n",
       "      <td>0.0</td>\n",
       "    </tr>\n",
       "    <tr>\n",
       "      <th>2</th>\n",
       "      <td>8</td>\n",
       "      <td>2015</td>\n",
       "      <td>1</td>\n",
       "      <td>1</td>\n",
       "      <td>4</td>\n",
       "      <td>AA</td>\n",
       "      <td>1112</td>\n",
       "      <td>N3LAAA</td>\n",
       "      <td>SFO</td>\n",
       "      <td>DFW</td>\n",
       "      <td>...</td>\n",
       "      <td>3.0</td>\n",
       "      <td>545</td>\n",
       "      <td>532.0</td>\n",
       "      <td>-13.0</td>\n",
       "      <td>0.0</td>\n",
       "      <td>0.0</td>\n",
       "      <td>0.0</td>\n",
       "      <td>0.0</td>\n",
       "      <td>0.0</td>\n",
       "      <td>0.0</td>\n",
       "    </tr>\n",
       "    <tr>\n",
       "      <th>3</th>\n",
       "      <td>17</td>\n",
       "      <td>2015</td>\n",
       "      <td>1</td>\n",
       "      <td>1</td>\n",
       "      <td>4</td>\n",
       "      <td>UA</td>\n",
       "      <td>1197</td>\n",
       "      <td>N78448</td>\n",
       "      <td>SFO</td>\n",
       "      <td>IAH</td>\n",
       "      <td>...</td>\n",
       "      <td>7.0</td>\n",
       "      <td>626</td>\n",
       "      <td>619.0</td>\n",
       "      <td>-7.0</td>\n",
       "      <td>0.0</td>\n",
       "      <td>0.0</td>\n",
       "      <td>0.0</td>\n",
       "      <td>0.0</td>\n",
       "      <td>0.0</td>\n",
       "      <td>0.0</td>\n",
       "    </tr>\n",
       "    <tr>\n",
       "      <th>4</th>\n",
       "      <td>92</td>\n",
       "      <td>2015</td>\n",
       "      <td>1</td>\n",
       "      <td>1</td>\n",
       "      <td>4</td>\n",
       "      <td>UA</td>\n",
       "      <td>1532</td>\n",
       "      <td>N77066</td>\n",
       "      <td>SFO</td>\n",
       "      <td>DEN</td>\n",
       "      <td>...</td>\n",
       "      <td>11.0</td>\n",
       "      <td>857</td>\n",
       "      <td>923.0</td>\n",
       "      <td>26.0</td>\n",
       "      <td>7.0</td>\n",
       "      <td>0.0</td>\n",
       "      <td>19.0</td>\n",
       "      <td>0.0</td>\n",
       "      <td>0.0</td>\n",
       "      <td>1.0</td>\n",
       "    </tr>\n",
       "  </tbody>\n",
       "</table>\n",
       "<p>5 rows × 30 columns</p>\n",
       "</div>"
      ],
      "text/plain": [
       "   Unnamed: 0  YEAR  MONTH  DAY  DAY_OF_WEEK AIRLINE  FLIGHT_NUMBER  \\\n",
       "0           2  2015      1    1            4      US            840   \n",
       "1           5  2015      1    1            4      DL            806   \n",
       "2           8  2015      1    1            4      AA           1112   \n",
       "3          17  2015      1    1            4      UA           1197   \n",
       "4          92  2015      1    1            4      UA           1532   \n",
       "\n",
       "  TAIL_NUMBER ORIGIN_AIRPORT DESTINATION_AIRPORT   ...     TAXI_IN  \\\n",
       "0      N171US            SFO                 CLT   ...        11.0   \n",
       "1      N3730B            SFO                 MSP   ...         6.0   \n",
       "2      N3LAAA            SFO                 DFW   ...         3.0   \n",
       "3      N78448            SFO                 IAH   ...         7.0   \n",
       "4      N77066            SFO                 DEN   ...        11.0   \n",
       "\n",
       "   SCHEDULED_ARRIVAL  ARRIVAL_TIME  ARRIVAL_DELAY  AIR_SYSTEM_DELAY  \\\n",
       "0                806         811.0            5.0               0.0   \n",
       "1                602         610.0            8.0               0.0   \n",
       "2                545         532.0          -13.0               0.0   \n",
       "3                626         619.0           -7.0               0.0   \n",
       "4                857         923.0           26.0               7.0   \n",
       "\n",
       "   SECURITY_DELAY  AIRLINE_DELAY  LATE_AIRCRAFT_DELAY  WEATHER_DELAY  DELAYED  \n",
       "0             0.0            0.0                  0.0            0.0      0.0  \n",
       "1             0.0            0.0                  0.0            0.0      0.0  \n",
       "2             0.0            0.0                  0.0            0.0      0.0  \n",
       "3             0.0            0.0                  0.0            0.0      0.0  \n",
       "4             0.0           19.0                  0.0            0.0      1.0  \n",
       "\n",
       "[5 rows x 30 columns]"
      ]
     },
     "execution_count": 4,
     "metadata": {},
     "output_type": "execute_result"
    }
   ],
   "source": [
    "df2 = pd.read_csv('data/Airline_Dataset_LGA_MDW_SFO.csv', low_memory=False)\n",
    "df2.head()"
   ]
  },
  {
   "cell_type": "markdown",
   "metadata": {},
   "source": [
    "### Simple Statistics"
   ]
  },
  {
   "cell_type": "markdown",
   "metadata": {},
   "source": [
    "To get a feel for our data we are going to review some simple statistics of our subsetted dataset."
   ]
  },
  {
   "cell_type": "code",
   "execution_count": 5,
   "metadata": {
    "collapsed": false,
    "scrolled": false
   },
   "outputs": [
    {
     "name": "stdout",
     "output_type": "stream",
     "text": [
      "       DEPARTURE_DELAY  ARRIVAL_DELAY  AIR_SYSTEM_DELAY  SECURITY_DELAY  \\\n",
      "count         71500.00       71500.00          71500.00        71500.00   \n",
      "mean             57.86          60.78             11.80            0.04   \n",
      "std              64.17          60.17             23.76            1.54   \n",
      "min             -20.00          16.00              0.00            0.00   \n",
      "25%              20.00          25.00              0.00            0.00   \n",
      "50%              41.00          40.00              1.00            0.00   \n",
      "75%              76.00          74.00             17.00            0.00   \n",
      "max            1496.00        1498.00            676.00          196.00   \n",
      "\n",
      "       AIRLINE_DELAY  LATE_AIRCRAFT_DELAY  WEATHER_DELAY  \n",
      "count       71500.00             71500.00       71500.00  \n",
      "mean           18.04                28.85           2.05  \n",
      "std            41.48                47.13          16.86  \n",
      "min             0.00                 0.00           0.00  \n",
      "25%             0.00                 0.00           0.00  \n",
      "50%             3.00                10.00           0.00  \n",
      "75%            20.00                39.00           0.00  \n",
      "max          1496.00              1102.00        1118.00  \n"
     ]
    }
   ],
   "source": [
    "df2_delayed = df2[df2.DELAYED == 1]\n",
    "\n",
    "np.set_printoptions(suppress=True)\n",
    "pd.options.display.float_format = '{:.2f}'.format\n",
    "print(df2_delayed[['DEPARTURE_DELAY','ARRIVAL_DELAY','AIR_SYSTEM_DELAY','SECURITY_DELAY','AIRLINE_DELAY', \n",
    "    'LATE_AIRCRAFT_DELAY', 'WEATHER_DELAY']].describe())"
   ]
  },
  {
   "cell_type": "markdown",
   "metadata": {},
   "source": [
    "Before interpreting the simple statistics it is important to note (once again) that our data has been subsetted to only include flights that had an arrival delay of greater than 15 minutes. So if we were to look at the mean delay of flights from our three airports (60.78 minutes), it is not the average delay of all flights from these airports. That would be much lower due to flights that weren't delayed or arrived early.\n",
    "\n",
    "With that said, one interesting, although not surprising, aspect of the statistics is how closely tied mean departure delay and arrival delay are. The mean departure delay was 57.86 minutes while the mean arrival delay was 60.78 minutes. While there are many variables at play, this is a bit of a surprising result. Once a flight's departure is delayed there are some limited options in the pilot's control to \"make up\" for the delay in the air. One is to simply fly more quickly. This is not done as standard practice as it burns more fuel (and the planes do not always have significant amounts of spare fuel loaded, in fact in practice they want as little fuel loaded onto the plane as is possible without compromising safety and more fuel makes the plane heavier, and therefore less fuel efficient, and therefore more expensive to operate), and for other reasons which are beyond the scope of this analysis to detail here.\n",
    "\n",
    "Another aspect of the summary statistics that jumps out is mean delay attributed to a late arriving aircraft. The mean delay is 28.85 minutes, which is by far the longest mean delay among the possible causes. The next closest is \"airline delay\" at 18.04 minutes. We believe that the most likely explanation for this large gap is that our subset of airports are very busy airports. That results in congested air space which can cause arrival delays due to air traffic as even a large airport's supply of runways can be outpaced by the \"demand\" for landings during peak periods.\n",
    "\n",
    "Far and away the shortest mean cause of delays was security, at 0.04 minutes. Perhaps anyone who has gone through security at these airports might disagree with the accounting of delay causes?"
   ]
  },
  {
   "cell_type": "markdown",
   "metadata": {},
   "source": [
    "To gain a better understanding of the distribution for each type of delay, a boxplot is shown below.  Notice that the x axis is at a log scale, indicating the the data is greatly right-skewed.  Therefore, we can presume that there are a large number of delays which take a short period of time beyond the 15 minute threshold and a smaller number of delay that are extremely long."
   ]
  },
  {
   "cell_type": "code",
   "execution_count": 8,
   "metadata": {
    "collapsed": false
   },
   "outputs": [
    {
     "data": {
      "image/png": "[encoded data removed]",
      "text/plain": [
       "<matplotlib.figure.Figure at 0x102c86f98>"
      ]
     },
     "metadata": {},
     "output_type": "display_data"
    }
   ],
   "source": [
    "plt.style.use('ggplot')\n",
    "\n",
    "ax = df2_delayed[['AIR_SYSTEM_DELAY','SECURITY_DELAY','AIRLINE_DELAY', \n",
    "    'LATE_AIRCRAFT_DELAY', 'WEATHER_DELAY']].boxplot(vert=False)\n",
    "\n",
    "#_Format axis\n",
    "plt.setp(ax.get_xticklabels(), fontsize=12, weight = 'normal', rotation = 0);\n",
    "plt.setp(ax.get_yticklabels(), fontsize=12, weight = 'bold', rotation = 0);\n",
    "ax.set_xscale('log')\n",
    "ax.yaxis.label.set_visible(False)\n",
    "plt.xlabel('Delay (minutes)', fontsize=16, weight = 'bold', labelpad=10)\n",
    "\n",
    "plt.show()"
   ]
  },
  {
   "cell_type": "code",
   "execution_count": null,
   "metadata": {
    "collapsed": true
   },
   "outputs": [],
   "source": []
  },
  {
   "cell_type": "markdown",
   "metadata": {},
   "source": [
    "### Visualize Attribute"
   ]
  },
  {
   "cell_type": "markdown",
   "metadata": {},
   "source": [
    "#### Types of Delays"
   ]
  },
  {
   "cell_type": "markdown",
   "metadata": {},
   "source": [
    "It is important to figure out which type of delay plays a more integral part to an arrival delay.  We will first investigate by seeing a breakdown of delay type as a summation of time as well as a count of times the delay type occurred. "
   ]
  },
  {
   "cell_type": "code",
   "execution_count": 9,
   "metadata": {
    "collapsed": false
   },
   "outputs": [
    {
     "data": {
      "image/png": "[encoded data removed]",
      "text/plain": [
       "<matplotlib.figure.Figure at 0x116f3cf28>"
      ]
     },
     "metadata": {},
     "output_type": "display_data"
    }
   ],
   "source": [
    "#_Aggregating flights to sum delays by their delay type\n",
    "b = ['AIR_SYSTEM_DELAY','SECURITY_DELAY','AIRLINE_DELAY', \n",
    "    'LATE_AIRCRAFT_DELAY', 'WEATHER_DELAY']\n",
    "df2_aggr = df2[b].sum()\n",
    "\n",
    "#_Vizualization of flights delay length by their delay type\n",
    "ax = df2_aggr.plot(kind='barh')\n",
    "fig = plt.figure(1, figsize=(10,7))\n",
    "\n",
    "#_Format axis\n",
    "plt.setp(ax.get_xticklabels(), fontsize=12, weight = 'normal', rotation = 0);\n",
    "plt.setp(ax.get_yticklabels(), fontsize=12, weight = 'bold', rotation = 0);\n",
    "plt.ticklabel_format(style='sci', axis='x', scilimits=(0,0))\n",
    "ax.yaxis.label.set_visible(False)\n",
    "plt.xlabel('Delay (minutes)', fontsize=16, weight = 'bold', labelpad=10)\n",
    "\n",
    "plt.show()"
   ]
  },
  {
   "cell_type": "code",
   "execution_count": 10,
   "metadata": {
    "collapsed": false
   },
   "outputs": [
    {
     "data": {
      "text/html": [
       "<div>\n",
       "<style>\n",
       "    .dataframe thead tr:only-child th {\n",
       "        text-align: right;\n",
       "    }\n",
       "\n",
       "    .dataframe thead th {\n",
       "        text-align: left;\n",
       "    }\n",
       "\n",
       "    .dataframe tbody tr th {\n",
       "        vertical-align: top;\n",
       "    }\n",
       "</style>\n",
       "<table border=\"1\" class=\"dataframe\">\n",
       "  <thead>\n",
       "    <tr style=\"text-align: right;\">\n",
       "      <th></th>\n",
       "      <th>Unnamed: 0</th>\n",
       "      <th>YEAR</th>\n",
       "      <th>MONTH</th>\n",
       "      <th>DAY</th>\n",
       "      <th>DAY_OF_WEEK</th>\n",
       "      <th>AIRLINE</th>\n",
       "      <th>FLIGHT_NUMBER</th>\n",
       "      <th>TAIL_NUMBER</th>\n",
       "      <th>ORIGIN_AIRPORT</th>\n",
       "      <th>DESTINATION_AIRPORT</th>\n",
       "      <th>...</th>\n",
       "      <th>TAXI_IN</th>\n",
       "      <th>SCHEDULED_ARRIVAL</th>\n",
       "      <th>ARRIVAL_TIME</th>\n",
       "      <th>ARRIVAL_DELAY</th>\n",
       "      <th>AIR_SYSTEM_DELAY</th>\n",
       "      <th>SECURITY_DELAY</th>\n",
       "      <th>AIRLINE_DELAY</th>\n",
       "      <th>LATE_AIRCRAFT_DELAY</th>\n",
       "      <th>WEATHER_DELAY</th>\n",
       "      <th>DELAYED</th>\n",
       "    </tr>\n",
       "  </thead>\n",
       "  <tbody>\n",
       "    <tr>\n",
       "      <th>0</th>\n",
       "      <td>2</td>\n",
       "      <td>2015</td>\n",
       "      <td>1</td>\n",
       "      <td>1</td>\n",
       "      <td>4</td>\n",
       "      <td>US</td>\n",
       "      <td>840</td>\n",
       "      <td>N171US</td>\n",
       "      <td>SFO</td>\n",
       "      <td>CLT</td>\n",
       "      <td>...</td>\n",
       "      <td>11.00</td>\n",
       "      <td>806</td>\n",
       "      <td>811.00</td>\n",
       "      <td>5.00</td>\n",
       "      <td>0.00</td>\n",
       "      <td>0.00</td>\n",
       "      <td>0.00</td>\n",
       "      <td>0.00</td>\n",
       "      <td>0.00</td>\n",
       "      <td>0.00</td>\n",
       "    </tr>\n",
       "    <tr>\n",
       "      <th>1</th>\n",
       "      <td>5</td>\n",
       "      <td>2015</td>\n",
       "      <td>1</td>\n",
       "      <td>1</td>\n",
       "      <td>4</td>\n",
       "      <td>DL</td>\n",
       "      <td>806</td>\n",
       "      <td>N3730B</td>\n",
       "      <td>SFO</td>\n",
       "      <td>MSP</td>\n",
       "      <td>...</td>\n",
       "      <td>6.00</td>\n",
       "      <td>602</td>\n",
       "      <td>610.00</td>\n",
       "      <td>8.00</td>\n",
       "      <td>0.00</td>\n",
       "      <td>0.00</td>\n",
       "      <td>0.00</td>\n",
       "      <td>0.00</td>\n",
       "      <td>0.00</td>\n",
       "      <td>0.00</td>\n",
       "    </tr>\n",
       "  </tbody>\n",
       "</table>\n",
       "<p>2 rows × 30 columns</p>\n",
       "</div>"
      ],
      "text/plain": [
       "   Unnamed: 0  YEAR  MONTH  DAY  DAY_OF_WEEK AIRLINE  FLIGHT_NUMBER  \\\n",
       "0           2  2015      1    1            4      US            840   \n",
       "1           5  2015      1    1            4      DL            806   \n",
       "\n",
       "  TAIL_NUMBER ORIGIN_AIRPORT DESTINATION_AIRPORT   ...     TAXI_IN  \\\n",
       "0      N171US            SFO                 CLT   ...       11.00   \n",
       "1      N3730B            SFO                 MSP   ...        6.00   \n",
       "\n",
       "   SCHEDULED_ARRIVAL  ARRIVAL_TIME  ARRIVAL_DELAY  AIR_SYSTEM_DELAY  \\\n",
       "0                806        811.00           5.00              0.00   \n",
       "1                602        610.00           8.00              0.00   \n",
       "\n",
       "   SECURITY_DELAY  AIRLINE_DELAY  LATE_AIRCRAFT_DELAY  WEATHER_DELAY  DELAYED  \n",
       "0            0.00           0.00                 0.00           0.00     0.00  \n",
       "1            0.00           0.00                 0.00           0.00     0.00  \n",
       "\n",
       "[2 rows x 30 columns]"
      ]
     },
     "execution_count": 10,
     "metadata": {},
     "output_type": "execute_result"
    }
   ],
   "source": [
    "df2.head(2)"
   ]
  },
  {
   "cell_type": "code",
   "execution_count": null,
   "metadata": {
    "collapsed": false,
    "scrolled": true
   },
   "outputs": [],
   "source": [
    "print(df2_aggr)"
   ]
  },
  {
   "cell_type": "markdown",
   "metadata": {},
   "source": [
    "As shown in the histogram above, an aircraft arriving late is the biggest culprit with an airline delay followed behind at roughly 60% its total minutes."
   ]
  },
  {
   "cell_type": "code",
   "execution_count": null,
   "metadata": {
    "collapsed": false
   },
   "outputs": [],
   "source": [
    "#_Aggregating flights to count delays by their delay type\n",
    "df2_count = df2[b][df2 > 0].count()\n",
    "\n",
    "#_Vizualization of flights delay count by their delay type\n",
    "ax = df2_count.plot(kind='barh')\n",
    "fig = plt.figure(1, figsize=(10,7))\n",
    "\n",
    "#_Format axis\n",
    "plt.setp(ax.get_xticklabels(), fontsize=12, weight = 'normal', rotation = 0);\n",
    "plt.setp(ax.get_yticklabels(), fontsize=12, weight = 'bold', rotation = 0);\n",
    "plt.ticklabel_format(style='sci', axis='x', scilimits=(0,0))\n",
    "ax.yaxis.label.set_visible(False)\n",
    "plt.xlabel('Number of Delays', fontsize=16, weight = 'bold', labelpad=10)\n",
    "\n",
    "plt.show()"
   ]
  },
  {
   "cell_type": "code",
   "execution_count": null,
   "metadata": {
    "collapsed": false
   },
   "outputs": [],
   "source": [
    "print(df2_count)"
   ]
  },
  {
   "cell_type": "markdown",
   "metadata": {},
   "source": [
    "We see a different trend in the counts of the types of delays.  Late aircraft delays, airline delays, and air system delays are all much closer to each other than the summation of total delay time.  Showing that the length of delays for a late aircraft tend to last longer than other types of delays.  And on the other side of the spectrum, we can presume air system delays average short time when compared to the other types.  This is consistent with what was calculated in their summary statistics."
   ]
  },
  {
   "cell_type": "markdown",
   "metadata": {},
   "source": [
    "#### Times of Arrival and Departure"
   ]
  },
  {
   "cell_type": "markdown",
   "metadata": {},
   "source": [
    "The time at which a delay occurs can also play a significant role.  To investigate we will plot arrival delay times against both time of arrival and time of departure to see if there is an apparent trend.  We will plot them using hallow circles to see greater concentrations of data points."
   ]
  },
  {
   "cell_type": "code",
   "execution_count": null,
   "metadata": {
    "collapsed": false,
    "scrolled": false
   },
   "outputs": [],
   "source": [
    "#_Vizualization of flights delays by their departure time\n",
    "ax = plt.scatter(df2['DEPARTURE_TIME'],df2['ARRIVAL_DELAY'], s=80, facecolors='none', edgecolors='r')\n",
    "fig = plt.figure(1, figsize=(10,7))\n",
    "\n",
    "#_Format axis\n",
    "plt.tick_params(labelsize=12)\n",
    "plt.ylabel('Delay Length (minutes)', fontsize=16, weight = 'bold', labelpad=10)\n",
    "plt.xlabel('Departure Time', fontsize=16, weight = 'bold', labelpad=10)\n",
    "\n",
    "plt.show()"
   ]
  },
  {
   "cell_type": "markdown",
   "metadata": {},
   "source": [
    "We see that as time progresses throughout the day, arrival delays trend up.  This makes sense because if an airline or plane is behind schedule earlier in the day, it is harder to catch up and the time behind schedule can compound into further and further behind schedule."
   ]
  },
  {
   "cell_type": "code",
   "execution_count": null,
   "metadata": {
    "collapsed": false,
    "scrolled": false
   },
   "outputs": [],
   "source": [
    "#_Vizualization of flights delays by their arrival time\n",
    "ax = plt.scatter(df2['ARRIVAL_TIME'],df2['ARRIVAL_DELAY'], s=80, facecolors='none', edgecolors='r')\n",
    "fig = plt.figure(1, figsize=(10,7))\n",
    "\n",
    "#_Format axis\n",
    "plt.tick_params(labelsize=12)\n",
    "plt.ylabel('Delay Length (minutes)', fontsize=16, weight = 'bold', labelpad=10)\n",
    "plt.xlabel('Arrival Time', fontsize=16, weight = 'bold', labelpad=10)\n",
    "\n",
    "plt.show()"
   ]
  },
  {
   "cell_type": "markdown",
   "metadata": {},
   "source": [
    "We see a consistent trend with arrival time.  Since departure time and arrival time are highly correlated seeing as arrival time must be later than departure time, pending travel time, this trend make practical sense. "
   ]
  },
  {
   "cell_type": "markdown",
   "metadata": {},
   "source": [
    "#### Airline Carrier\n",
    "\n",
    "A new variable will be made separating delays from longer delays to those which stay under 45 minutes to visualize the sereverity of the delay. \n",
    "\n",
    "Then this new variable to will be plotted as a bar chart grouped by Airline Carrier to see if Airlines can be a key factor in flights being delayed and if there is a tendancy for certain airlines to have longer delays."
   ]
  },
  {
   "cell_type": "code",
   "execution_count": null,
   "metadata": {
    "collapsed": true
   },
   "outputs": [],
   "source": [
    "df2['DELAY_LENGTH'] = pd.cut(df2.ARRIVAL_DELAY,[-1e6,15,45,1e6],3,labels=['>15','>45','<45']) "
   ]
  },
  {
   "cell_type": "code",
   "execution_count": null,
   "metadata": {
    "collapsed": false,
    "scrolled": true
   },
   "outputs": [],
   "source": [
    "#_Vizualization of Flights and their delays\n",
    "\n",
    "fig = plt.figure(1, figsize=(10,7))\n",
    "ax = sns.countplot(y=\"AIRLINE\", hue='DELAY_LENGTH', data=df2)\n",
    "#____________________________________________________________________________________\n",
    "# We replace the abbreviations by the full names of the companies and set the labels\n",
    "labels = [airlines_full_name[item.get_text()] for item in ax.get_yticklabels()]\n",
    "ax.set_yticklabels(labels)\n",
    "plt.setp(ax.get_xticklabels(), fontsize=12, weight = 'normal', rotation = 0);\n",
    "plt.setp(ax.get_yticklabels(), fontsize=12, weight = 'bold', rotation = 0);\n",
    "ax.yaxis.label.set_visible(False)\n",
    "plt.xlabel('Flight count', fontsize=16, weight = 'bold', labelpad=10)\n",
    "#________________\n",
    "# Set the legend\n",
    "L = plt.legend()\n",
    "L.get_texts()[0].set_text('No delay, > 15 min')\n",
    "L.get_texts()[1].set_text('Delays between 15 min to 45 min')\n",
    "L.get_texts()[2].set_text('Large delays greater than < 45 min')\n",
    "plt.show()"
   ]
  },
  {
   "cell_type": "markdown",
   "metadata": {},
   "source": [
    "We see a consistent pattern of percentages of delays, both short and long, based on airline carriers.  Some airlines have more than others but it appears that total flights by that airline carrier is larger for them as well, making carriers proportionally similar percentage of delays. "
   ]
  },
  {
   "cell_type": "markdown",
   "metadata": {},
   "source": [
    "#### Month of Departure and Day of Departure\n",
    "\n",
    "We will also investigate to see if there is a noticable pattern in delays based on a flight's the month in which it departed or on the day during the week it departed."
   ]
  },
  {
   "cell_type": "code",
   "execution_count": null,
   "metadata": {
    "collapsed": false
   },
   "outputs": [],
   "source": [
    "# Making indexes for both month of year and day of week\n",
    "\n",
    "# 1. Date\n",
    "df2['DATE'] = pd.to_datetime(df2[['YEAR','MONTH','DAY']], yearfirst=True)\n",
    "\n",
    "# 2. Month name\n",
    "month_dict={\n",
    "    1:  '01- January',\n",
    "    2:  '02- February',\n",
    "    3:  '03- March',\n",
    "    4:  '04- April',\n",
    "    5:  '05- May',\n",
    "    6:  '06- June',\n",
    "    7:  '07- July',\n",
    "    8:  '08- August',\n",
    "    9:  '09- September',\n",
    "    10: '10- October',\n",
    "    11: '11- November',\n",
    "    12: '12- December'\n",
    "}\n",
    "df2['MONTH_DESC'] = df2['MONTH'].apply(lambda m: month_dict[m])\n",
    "\n",
    "# 3. Day of the week name\n",
    "dow_dict = {\n",
    "    1: 'Monday',\n",
    "    2: 'Tuesday',\n",
    "    3: 'Wednesday',\n",
    "    4: 'Thursday',\n",
    "    5: 'Friday',\n",
    "    6: 'Saturday',\n",
    "    7: 'Sunday'\n",
    "}\n",
    "df2['DOW_DESC'] = df2['DAY_OF_WEEK'].apply(lambda d: dow_dict[d])\n",
    "\n",
    "df2['WEEK_NAME_DESC']=df2.DAY_OF_WEEK.map(str)+'-'+df2.DOW_DESC\n",
    "\n",
    "# 4. Airline name\n",
    "df2['AIRLINE_DESC'] = df2['AIRLINE'].apply(lambda a: airlines_full_name[a])\n",
    "\n",
    "\n",
    "\n",
    "df2.head()\n"
   ]
  },
  {
   "cell_type": "code",
   "execution_count": null,
   "metadata": {
    "collapsed": false,
    "scrolled": false
   },
   "outputs": [],
   "source": [
    "#Scheduled Departure by Months\n",
    "df_busyday = pd.DataFrame(df2.groupby('MONTH_DESC').count()['SCHEDULED_DEPARTURE'])\n",
    "ax = df_busyday.plot(kind='line',subplots=True,color='r',figsize=(15,8),legend=False)\n",
    "\n",
    "#_Format axis\n",
    "plt.tick_params(labelsize=12)\n",
    "plt.ylabel('Number of Flights', fontsize=16, weight = 'bold', labelpad=10)\n",
    "plt.xlabel('Month', fontsize=16, weight = 'bold', labelpad=10)"
   ]
  },
  {
   "cell_type": "markdown",
   "metadata": {},
   "source": [
    "The seasonal pattern in scheduled departures is shown above with spikes in the summer months (June, July, August) and lows during the winter months (December, January, February).  Seasonal patterns could influence flight delays due to congestion during the higher volume of flights during the summer months."
   ]
  },
  {
   "cell_type": "code",
   "execution_count": null,
   "metadata": {
    "collapsed": false
   },
   "outputs": [],
   "source": [
    "#Scheduled Departures by Week Days\n",
    "df_busyday = pd.DataFrame(df2.groupby('WEEK_NAME_DESC').count()['SCHEDULED_DEPARTURE'])\n",
    "ax = df_busyday.plot(kind='line',subplots=True,color='r',figsize=(12,8),legend=False)\n",
    "\n",
    "#_Format axis\n",
    "plt.tick_params(labelsize=12)\n",
    "plt.ylabel('Number of Flights', fontsize=16, weight = 'bold', labelpad=10)\n",
    "plt.xlabel('Day of Week', fontsize=16, weight = 'bold', labelpad=10)"
   ]
  },
  {
   "cell_type": "markdown",
   "metadata": {},
   "source": [
    "The daily pattern of scheduled departures shows higher volume on weekdays and lower volume on weekends. These daily patterns could also influence delays.\n",
    " \n",
    "Airline schedules are determined by demand. During weekdays, a higher percentage of traffic is made up by \"business\" travel. Business travelers prefer high frequency operations so that they can make it to their meetings and back at convenient times. During the weekend demand shifts to more of a \"leisure\" component. Leisure travel prefers to begin their travel either Friday, or early Saturday, and return on Sunday. Very few leisure travels wants to begin their trip late Saturday or end it on Saturday. As a result, Saturday schedules tend to be much more sparse in the afternoons, and so Saturdays as a whole has the fewest frequencies of any day of week"
   ]
  },
  {
   "cell_type": "markdown",
   "metadata": {},
   "source": [
    "### Explore Joint Attributes"
   ]
  },
  {
   "cell_type": "markdown",
   "metadata": {},
   "source": [
    "#### Time of  Departure by Delay Type"
   ]
  },
  {
   "cell_type": "code",
   "execution_count": null,
   "metadata": {
    "collapsed": false,
    "scrolled": false
   },
   "outputs": [],
   "source": [
    "#_Vizualization of flight delays by departure time colored by delay type\n",
    "fig = plt.figure(1, figsize=(10,8))\n",
    "set1 = plt.scatter(x=df2.DEPARTURE_TIME[df2.LATE_AIRCRAFT_DELAY > 0], y=df2.LATE_AIRCRAFT_DELAY[df2.LATE_AIRCRAFT_DELAY > 0], \n",
    "           s=80, facecolors='none', edgecolors='m')\n",
    "set2 = plt.scatter(x=df2.DEPARTURE_TIME[df2.AIRLINE_DELAY > 0], y=df2.AIRLINE_DELAY[df2.AIRLINE_DELAY > 0], \n",
    "           s=80, facecolors='none', edgecolors='g')\n",
    "set3 = plt.scatter(x=df2.DEPARTURE_TIME[df2.WEATHER_DELAY > 0], y=df2.WEATHER_DELAY[df2.WEATHER_DELAY > 0], \n",
    "           s=80, facecolors='none', edgecolors='c')\n",
    "set4 = plt.scatter(x=df2.DEPARTURE_TIME[df2.AIR_SYSTEM_DELAY > 0], y=df2.AIR_SYSTEM_DELAY[df2.AIR_SYSTEM_DELAY > 0], \n",
    "           s=80, facecolors='none', edgecolors='r')\n",
    "set5 = plt.scatter(x=df2.DEPARTURE_TIME[df2.SECURITY_DELAY > 0], y=df2.SECURITY_DELAY[df2.SECURITY_DELAY > 0], \n",
    "           s=80, facecolors='none', edgecolors='b')\n",
    "\n",
    "#_Format axis\n",
    "plt.tick_params(labelsize=12)\n",
    "plt.ylabel('Delay Length (minutes)', fontsize=16, weight = 'bold', labelpad=10)\n",
    "plt.xlabel('Departure Time', fontsize=16, weight = 'bold', labelpad=10)\n",
    "\n",
    "#_Set legend\n",
    "plt.legend(handles=[set1,set2,set3,set4,set5])\n",
    "\n",
    "plt.show()"
   ]
  },
  {
   "cell_type": "markdown",
   "metadata": {},
   "source": [
    "In the above chart we plot departure time on the x-axis with the time the flight was delayed on the y-axis. The color of each observation represents the various delays causes. Of note is that “AIR_SYSTEM_DELAY” is rarely a cause of delays. Weather and late aircraft are common, but airline delays are the biggest driver of delayed arrivals. Airline delays can be caused by a variety of factors including mechanical issues, crew “timing out”. That is, per Federal Aviation Administration regulations, pilots must get a minimum of ten hours rest between shifts, and eight of those hours must involve uninterrupted sleep.  Additionally, they can only must have 30 hours of consecutive rest each week. What this means is that a crew could be scheduled to flight an additional flight, but due to delays earlier in their trip, they could “time-out”, which means they are not legal to fly the next trip. In which case the airline must scramble to find fresh pilots, which can cause delays.\n"
   ]
  },
  {
   "cell_type": "markdown",
   "metadata": {},
   "source": [
    "#### Delays by Airline Carrier in Month of the Year"
   ]
  },
  {
   "cell_type": "code",
   "execution_count": null,
   "metadata": {
    "collapsed": false
   },
   "outputs": [],
   "source": [
    "cmap = sns.diverging_palette(220,10,as_cmap=True)\n",
    "\n",
    "#Scheduled Departures by Airlines by Month\n",
    "fig = plt.figure(figsize=(10,10))\n",
    "sns.heatmap(pvt_scheduled_airline_date, linecolor=\"blue\", linewidths=1, cmap=cmap, \n",
    "            cbar_kws={'label': 'Delay (minutes)'})\n",
    "\n",
    "#_Format axis\n",
    "plt.tick_params(labelsize=12)\n",
    "plt.ylabel('Month', fontsize=16, weight = 'bold', labelpad=10)\n",
    "plt.xlabel('Airline', fontsize=16, weight = 'bold', labelpad=10)\n",
    "\n",
    "plt.show()"
   ]
  },
  {
   "cell_type": "code",
   "execution_count": null,
   "metadata": {
    "collapsed": false,
    "scrolled": true
   },
   "outputs": [],
   "source": [
    "pvt_scheduled_airline_date = df2.pivot_table(index=\"MONTH_DESC\",columns=\"AIRLINE_DESC\",values=\"SCHEDULED_DEPARTURE\",aggfunc=lambda x: x.count())\n",
    "pvt_scheduled_airline_date.head()"
   ]
  },
  {
   "cell_type": "markdown",
   "metadata": {},
   "source": [
    "The above heatmap shows the number of scheduled departures by airline by month. We observe that Southwest Airlines has the highest number for each month. This is impacted some by the fact that Southwest does not lease any of their capacity while large carriers like Delta Air Lines and United Airlines do, and as discussed previously, the carriers which operated that leased capacity are reported separately from the brand they fly it as."
   ]
  },
  {
   "cell_type": "markdown",
   "metadata": {},
   "source": [
    "### Explore Attributes and Class"
   ]
  },
  {
   "cell_type": "markdown",
   "metadata": {},
   "source": [
    "This dataset could be very useful in helping design a model to predict the likelihood that a given flight would result in a delay.  We observe that for all flights originating from San Francisco, Chicago Midway, or New York LaGuardia, approximately 20% have an arrival delay exceeding 15 minutes."
   ]
  },
  {
   "cell_type": "code",
   "execution_count": null,
   "metadata": {
    "collapsed": false
   },
   "outputs": [],
   "source": [
    "delay_rate = df2.DELAYED.sum() / df2.DELAYED.count()\n",
    "delay_rate"
   ]
  },
  {
   "cell_type": "markdown",
   "metadata": {},
   "source": [
    "By examining the attributes in the dataset, we can build insights into which variables could be important predictors of arrival outcome - whether the flight can be considered on-time or delayed.  We would like to initially explore the arrival outcome by focusing on the originating airport, airline, and day of the week.  A final predictive model will certainly include additional attributes from the dataset. In the following section on New Features we will explore whether it may appropriate to transform some of the continuous variables into new features or levels to further enhance our analysis."
   ]
  },
  {
   "cell_type": "code",
   "execution_count": null,
   "metadata": {
    "collapsed": false,
    "scrolled": true
   },
   "outputs": [],
   "source": [
    "#code to create stacked bar charts adapted from Dr. Larson's master Jupyter notebooks for MSDS 7349\n",
    "#visualize airport, airline, day of week\n",
    "#exploration of destination airport, total flight distance, and calendar season could also be important\n",
    "#attributes, although difficult to vizualize\n",
    "#Potential new features are later explored to determine if our analysis would be further enhanced\n",
    "\n",
    "\n",
    "delays_origin = pd.crosstab([ df2['ORIGIN_AIRPORT']],df2.DELAYED.astype(bool))\n",
    "origin_rate = delays_origin.div(delays_origin.sum(1).astype(float),axis=0) # normalize the value\n",
    "\n",
    "#_Vizualization of percentage of flights delayed by airport\n",
    "fig = plt.figure(figsize=(15,10))\n",
    "ax = origin_rate.plot(kind='barh',stacked=True, width=.25)\n",
    "\n",
    "#_Format axis\n",
    "plt.setp(ax.get_xticklabels(), fontsize=12, weight = 'normal', rotation = 0);\n",
    "plt.setp(ax.get_yticklabels(), fontsize=12, weight = 'bold', rotation = 0);\n",
    "ax.yaxis.label.set_visible(False)\n",
    "plt.xlabel('Percent', fontsize=16, weight = 'bold', labelpad=10)\n",
    "\n",
    "# Set the legend\n",
    "L = plt.legend()\n",
    "L.get_texts()[0].set_text('On Time')\n",
    "L.get_texts()[1].set_text('Delayed')\n",
    "\n",
    "plt.show()"
   ]
  },
  {
   "cell_type": "code",
   "execution_count": null,
   "metadata": {
    "collapsed": false
   },
   "outputs": [],
   "source": [
    "print(origin_rate)"
   ]
  },
  {
   "cell_type": "code",
   "execution_count": null,
   "metadata": {
    "collapsed": false
   },
   "outputs": [],
   "source": [
    "delays_airline = pd.crosstab([ df2['AIRLINE_DESC'] ],df2.DELAYED.astype(bool))\n",
    "airline_rate = delays_airline.div(delays_airline.sum(1).astype(float),axis=0) # normalize the value\n",
    "\n",
    "#_Vizualization of percentage of flights delayed by airline\n",
    "fig = plt.figure(figsize=(15,10))\n",
    "ax = airline_rate.plot(kind='barh',stacked=True, width=.25)\n",
    "\n",
    "#_Format axis\n",
    "plt.setp(ax.get_xticklabels(), fontsize=12, weight = 'normal', rotation = 0);\n",
    "plt.setp(ax.get_yticklabels(), fontsize=12, weight = 'bold', rotation = 0);\n",
    "ax.yaxis.label.set_visible(False)\n",
    "plt.xlabel('Percent', fontsize=16, weight = 'bold', labelpad=10)\n",
    "\n",
    "# Set the legend\n",
    "L = plt.legend()\n",
    "L.get_texts()[0].set_text('On Time')\n",
    "L.get_texts()[1].set_text('Delayed')\n",
    "\n",
    "plt.show()"
   ]
  },
  {
   "cell_type": "code",
   "execution_count": null,
   "metadata": {
    "collapsed": false
   },
   "outputs": [],
   "source": [
    "print(airline_rate)"
   ]
  },
  {
   "cell_type": "code",
   "execution_count": null,
   "metadata": {
    "collapsed": false,
    "scrolled": true
   },
   "outputs": [],
   "source": [
    "delays_dayofweek = pd.crosstab([ df2['WEEK_NAME_DESC'] ],df2.DELAYED.astype(bool))\n",
    "dayofweek_rate = delays_dayofweek.div(delays_dayofweek.sum(1).astype(float),axis=0) # normalize the value\n",
    "\n",
    "#_Vizualization of percentage of flights delayed by day of week\n",
    "fig = plt.figure(figsize=(15,10))\n",
    "ax = dayofweek_rate.plot(kind='barh',stacked=True, width=.25)\n",
    "\n",
    "#_Format axis\n",
    "plt.setp(ax.get_xticklabels(), fontsize=12, weight = 'normal', rotation = 0);\n",
    "plt.setp(ax.get_yticklabels(), fontsize=12, weight = 'bold', rotation = 0);\n",
    "ax.yaxis.label.set_visible(False)\n",
    "plt.xlabel('Percent', fontsize=16, weight = 'bold', labelpad=10)\n",
    "\n",
    "# Set the legend\n",
    "L = plt.legend()\n",
    "L.get_texts()[0].set_text('On Time')\n",
    "L.get_texts()[1].set_text('Delayed')\n",
    "\n",
    "plt.show()"
   ]
  },
  {
   "cell_type": "code",
   "execution_count": null,
   "metadata": {
    "collapsed": false
   },
   "outputs": [],
   "source": [
    "print(dayofweek_rate)"
   ]
  },
  {
   "cell_type": "markdown",
   "metadata": {},
   "source": [
    "If we keep the overall 20% delay benchmark in mind, using the plots above, we can easily see how close the different values for each attribute are to that benchmark.  As an example, in the day of the week plot, we notice that the weekend days (days 6 and 7) and Wednesday (day 3) are the days of the week with lower likelihood of delays while the higher likelihood is observed for the remaining weekdays (excluding Wednesday).  This pattern seems intuitive when we consider the customary cadence of business and leisure travel.  Higher volume of travel at the beginning and end of the week will likely result in tighter flight schedules and any single delay has potential to create cascading delays throughout the day."
   ]
  },
  {
   "cell_type": "markdown",
   "metadata": {},
   "source": [
    "### New Features\n",
    "\n",
    "The raw dataset is very large and reported at a granular level. As such there are significant differences between the different airports, time of day, etc. One way to gain more information, as well as making the data set easier to handle, would be to group variables in a logical manner:\n",
    "\n",
    " - A field that shows the geographic region of the origin and destination airports (the idea being that some regions of the country are more likely to have weather that is difficult to operate in, and therefore more likely to have delayed flights\n",
    " - A variable which groups flights into short haul, medium haul and long haul (0-500 miles, 501-1000 miles, and 1001 miles as a starting suggestion). This has the benefit of allowing to do some feature reduction without completely losing the length of haul information provided by the distance field)\n",
    " - A field grouping the scheduled departure time (morning, afternoon, evening, late evening, red-eye). Like with the distance grouping, it allows for some feature reduction while not losing all of the information provided by the scheduled departure time. Also, the later in the day a flightis the more likely it is to have a late arriving aircraft of some other issue that causes a delay. Also, many airlines \"bank\" their flights, which means that they have many departing around the same time so that they can connect passengers. But this causes airport congestion which can lead to delays.\n",
    " \n",
    "This has the potential of helping us in two ways. One, as mentioned, is to allow us to aggregate observations in a logical way to pick out trends that can be generalized. As an example, knowing that a flight to White Plains, New York (airport code: HPN) is not likely to be useful to many people. However, knowing that flights to the northeast, especially during winters, are more likely to be delayed when coming from the Midwest, would be useful information for a large number of people.\n",
    "\n",
    "The second benefit is that it could serve as data reduction. Rather than predicting how flights perform between all the different permutations of airports across the country, predicting how they perform between a handful of different regions would be much cheaper computationally. \n",
    "\n",
    "To accomplish this, we will add the new features detailed in the bullet points above."
   ]
  },
  {
   "cell_type": "markdown",
   "metadata": {},
   "source": [
    "Because we are going to add the new features to the raw dataset, rather than to the subsetted dataset, we are going to use the original dataset that was loaded at the beginning of this notebook."
   ]
  },
  {
   "cell_type": "markdown",
   "metadata": {},
   "source": [
    "Reading in another data set to identify the state that each airport is in. This will later be used to group the airports by region. Additionally, we are renaming the columns to make the merge (seen later) easier."
   ]
  },
  {
   "cell_type": "code",
   "execution_count": null,
   "metadata": {
    "collapsed": true
   },
   "outputs": [],
   "source": [
    "df_orig = pd.read_csv('data/airports.csv', low_memory=False)\n",
    "\n",
    "df_orig.rename(columns={'IATA_CODE':'ORIGIN_AIRPORT'},inplace=True)\n",
    "df_orig2 = df_orig.loc[:,['ORIGIN_AIRPORT','STATE']]\n",
    "df_orig2.rename(columns={'STATE':'Orig_State'},inplace=True)"
   ]
  },
  {
   "cell_type": "markdown",
   "metadata": {},
   "source": [
    "Next we load the dataset again, save it as a different dataframe, and rename the column so that we can eventually merge on the destination airport."
   ]
  },
  {
   "cell_type": "code",
   "execution_count": null,
   "metadata": {
    "collapsed": true
   },
   "outputs": [],
   "source": [
    "df_dest = pd.read_csv('data/airports.csv', low_memory=False)\n",
    "\n",
    "df_dest.rename(columns={'IATA_CODE':'DESTINATION_AIRPORT'},inplace=True)\n",
    "df_dest2 = df_dest.loc[:,['DESTINATION_AIRPORT','STATE']]\n",
    "df_dest2.rename(columns={'STATE':'Dest_State'},inplace=True)"
   ]
  },
  {
   "cell_type": "markdown",
   "metadata": {},
   "source": [
    "Finally, we merge all of the data frames together."
   ]
  },
  {
   "cell_type": "code",
   "execution_count": null,
   "metadata": {
    "collapsed": true
   },
   "outputs": [],
   "source": [
    "df3 = pd.merge(df,df_orig2,how='left',on=['ORIGIN_AIRPORT'])\n",
    "df4 = pd.merge(df3,df_dest2,how='left',on=['DESTINATION_AIRPORT'])"
   ]
  },
  {
   "cell_type": "markdown",
   "metadata": {},
   "source": [
    "Now we create some list variables grouping each state into one of 5 geographic regions.\n",
    "\n",
    " - West = Western United States\n",
    " - MW = Midwest\n",
    " - NE = Northeast\n",
    " - SoCen = South Central\n",
    " - SE = Southeast\n",
    " \n",
    "We then use a nested Numpy where to group the Origin and Destination airports into the appropriate regions."
   ]
  },
  {
   "cell_type": "code",
   "execution_count": null,
   "metadata": {
    "collapsed": true
   },
   "outputs": [],
   "source": [
    "West = ['AK', 'AZ', 'CA', 'CO', 'HI', 'ID', 'MT', 'NM', 'NV', 'OR', 'UT', 'WA', 'WY']\n",
    "MW = ['IL', 'IN', 'MI', 'OH', 'KS', 'MN', 'MO', 'IA', 'WI', 'ND', 'SD', 'NE']\n",
    "NE = ['NJ', 'NY', 'VT', 'PA', 'VA', 'WV', 'CT', 'MD', 'RI', 'NH', 'MA', 'ME', 'DE', 'DC', 'US']\n",
    "SoCen = ['AR', 'OK', 'LA', 'TX']\n",
    "SE = ['FL', 'GA', 'NC', 'SC', 'AL', 'TN', 'KY', 'MS']\n",
    "df4['Orig_Rgn'] = np.where(df4.Orig_State.isin(West),'West',\n",
    "                  np.where(df4.Orig_State.isin(MW),'MW',\n",
    "                  np.where(df4.Orig_State.isin(NE),'NE',\n",
    "                  np.where(df4.Orig_State.isin(SoCen),'SoCen',\n",
    "                  np.where(df4.Orig_State.isin(SE),'SE','unknown')))))\n",
    "\n",
    "df4['Dest_Rgn'] = np.where(df4.Dest_State.isin(West),'West',\n",
    "                  np.where(df4.Dest_State.isin(MW),'MW',\n",
    "                  np.where(df4.Dest_State.isin(NE),'NE',\n",
    "                  np.where(df4.Dest_State.isin(SoCen),'SoCen',\n",
    "                  np.where(df4.Dest_State.isin(SE),'SE','unknown')))))"
   ]
  },
  {
   "cell_type": "markdown",
   "metadata": {},
   "source": [
    "Now we will group each flight by its \"length of haul\" or \"LOH\". That is the distance the plane flew between the origin and destination airport.\n",
    "\n",
    " - Short Haul = 0 - 500 miles (0-500)\n",
    " - Medium Haul = 501 - 1,000 miles (501-1,000)\n",
    " - Long Haul = 1,001+ miles (1,001+)"
   ]
  },
  {
   "cell_type": "code",
   "execution_count": null,
   "metadata": {
    "collapsed": true
   },
   "outputs": [],
   "source": [
    "df4['LOH_Grp'] = np.where(df4.DISTANCE < 501,'0-500',\n",
    "                 np.where(df4.DISTANCE < 1000,'501-1,000','1,001+'))"
   ]
  },
  {
   "cell_type": "markdown",
   "metadata": {},
   "source": [
    "The last grouping field we will add is for the time of the day that the flight departs. Because there is little slack built into an airline's schedule, often when a flight is delayed it can have a domino effect to all subsequent flights that plane was scheduled to fly. This was explored some in the \"Visualize Attributes\" section. To make this easier to see, we will group departure times as follows (24-hour clock):\n",
    "\n",
    " - 00:00 - 05:00 = Red-Eye\n",
    " - 05:01 - 11:00 = Morning\n",
    " - 11:01 - 14:00 = Midday\n",
    " - 14:01 - 17:00 = Afternoon\n",
    " - 17:01 - 21:00 = Evening\n",
    " - 21:09 - 24:00 = Late Evening"
   ]
  },
  {
   "cell_type": "code",
   "execution_count": null,
   "metadata": {
    "collapsed": true
   },
   "outputs": [],
   "source": [
    "df4['DepTime'] = np.where(df4.SCHEDULED_DEPARTURE < 501,'Red-Eye',\n",
    "                 np.where(df4.SCHEDULED_DEPARTURE < 1101,'Morning',\n",
    "                 np.where(df4.SCHEDULED_DEPARTURE < 1401,'Midday',\n",
    "                 np.where(df4.SCHEDULED_DEPARTURE < 1701,'Afternoon',\n",
    "                 np.where(df4.SCHEDULED_DEPARTURE < 2101,'Evening','Late Evening')))))"
   ]
  },
  {
   "cell_type": "markdown",
   "metadata": {},
   "source": [
    "### Exceptional Work"
   ]
  },
  {
   "cell_type": "markdown",
   "metadata": {
    "collapsed": true
   },
   "source": [
    "For the \"Exceptional Work\" section we are going to explore our data using our newly created additional features.\n",
    "\n",
    "First we are going to look at the delay rate by our time grouping."
   ]
  },
  {
   "cell_type": "code",
   "execution_count": null,
   "metadata": {
    "collapsed": false
   },
   "outputs": [],
   "source": [
    "delays_time = pd.crosstab([ df4['DepTime']],df4.DELAYED.astype(bool))\n",
    "delays_rate = delays_time.div(delays_time.sum(1).astype(float),axis=0)\n",
    "\n",
    "#_Vizualization of percentage of flights delayed by time category\n",
    "ax = delays_rate.plot(kind='bar',stacked=True)\n",
    "\n",
    "#_Format axis\n",
    "plt.setp(ax.get_yticklabels(), fontsize=12, weight = 'normal', rotation = 0);\n",
    "plt.setp(ax.get_xticklabels(), fontsize=12, weight = 'bold', rotation = 90);\n",
    "ax.xaxis.label.set_visible(False)\n",
    "plt.ylabel('Percent', fontsize=16, weight = 'normal', labelpad=10)\n",
    "\n",
    "# Set the legend\n",
    "L = plt.legend()\n",
    "L.get_texts()[0].set_text('On Time')\n",
    "L.get_texts()[1].set_text('Delayed')\n",
    "\n",
    "plt.show()"
   ]
  },
  {
   "cell_type": "markdown",
   "metadata": {},
   "source": [
    "We can immediately see that the flights in the \"Evening\" and \"Late Evening\" tend to be delayed at higher rates. This begs the question of what causes this? Perhaps it due to those time periods have a large volume of scheduled arrivals and therefore air traffic/airport congestion is causing delays? To answer this we'll look at the count of flights by each time grouping."
   ]
  },
  {
   "cell_type": "code",
   "execution_count": null,
   "metadata": {
    "collapsed": false
   },
   "outputs": [],
   "source": [
    "df_delay = pd.DataFrame(df4.groupby('DepTime').count()['SCHEDULED_ARRIVAL'])\n",
    "\n",
    "#_Vizualization of number of flights delayed by time category\n",
    "ax = df_delay.plot(kind='bar',color='B',figsize=(20,6),legend=False)\n",
    "\n",
    "#_Format axis\n",
    "plt.setp(ax.get_xticklabels(), fontsize=12, weight = 'bold', rotation = 0);\n",
    "ax.xaxis.label.set_visible(False)\n",
    "plt.ylabel('Number of flights', fontsize=16, weight = 'bold', labelpad=10)\n",
    "\n",
    "plt.show()"
   ]
  },
  {
   "cell_type": "markdown",
   "metadata": {},
   "source": [
    "From the plot above we se that the \"Late Evening\" flight in particular are flying at times that should not be that congested. The \"Late Morning\" and \"Afternoon\" period have far more flights. If we look at the same data, but in a line chart, the likely cause becomes more clear."
   ]
  },
  {
   "cell_type": "code",
   "execution_count": null,
   "metadata": {
    "collapsed": false
   },
   "outputs": [],
   "source": [
    "#_Vizualization of percentage of flights delayed over time category\n",
    "ax = delays_rate.plot(kind='line')\n",
    "\n",
    "#_Format axis\n",
    "plt.setp(ax.get_yticklabels(), fontsize=12, weight = 'normal', rotation = 0);\n",
    "plt.setp(ax.get_xticklabels(), fontsize=12, weight = 'bold', rotation = 90);\n",
    "ax.xaxis.label.set_visible(False)\n",
    "plt.ylabel('Percentage', fontsize=16, weight = 'bold', labelpad=10)\n",
    "\n",
    "plt.show()"
   ]
  },
  {
   "cell_type": "markdown",
   "metadata": {},
   "source": [
    "Focusing on the green line, which is the percent of flights delayed by departure time grouping it is clear that the likelihood of a flight being delayed inceases as it gets later in the due. This is likely due to the fact that once a flight is delayed it has a cascading impact on every later flight in the day that plane was scheduled to fly. In other words, once it's behind, it's hard to catch up.\n",
    "\n",
    "Next we'll look at delays by destination region."
   ]
  },
  {
   "cell_type": "code",
   "execution_count": null,
   "metadata": {
    "collapsed": false
   },
   "outputs": [],
   "source": [
    "delays_rgn = pd.crosstab([ df4['Dest_Rgn']],df4.DELAYED.astype(bool))\n",
    "delays_rate_rgn = delays_rgn.div(delays_rgn.sum(1).astype(float),axis=0)\n",
    "\n",
    "#_Vizualization of percentage of flights delayed by region\n",
    "ax = delays_rate_rgn.plot(kind='bar',stacked=True)\n",
    "\n",
    "#_Format axis\n",
    "plt.setp(ax.get_yticklabels(), fontsize=12, weight = 'normal', rotation = 0);\n",
    "plt.setp(ax.get_xticklabels(), fontsize=12, weight = 'bold', rotation = 0);\n",
    "ax.xaxis.label.set_visible(False)\n",
    "plt.ylabel('Percentage', fontsize=16, weight = 'bold', labelpad=10)\n",
    "\n",
    "# Set the legend\n",
    "L = plt.legend()\n",
    "L.get_texts()[0].set_text('On Time')\n",
    "L.get_texts()[1].set_text('Delayed')\n",
    "\n",
    "plt.show()"
   ]
  },
  {
   "cell_type": "markdown",
   "metadata": {},
   "source": [
    "Two things jump out about this data. The first is that all regions have similar delay rates. The second, is that while it is not a huge difference, the Northeast (NE) does have a higher delay rate than any other region.\n",
    "\n",
    "While we saw above that \"congestion\" does not appear to be a driver of delays, the fact that much of the traffic in the Northeast is made up by the three large New York airports (EWR, LGA, JFK), and those are three of the busiest airports in the world, it certainly can't help. Another likely contributing factor is weather. Cold weather can result in delays to wait for storms to pass or because planes have to go through a \"de-icing\" process.\n",
    "\n",
    "The final look with our new features will be at the length-of-haul (LOH) groupings."
   ]
  },
  {
   "cell_type": "code",
   "execution_count": null,
   "metadata": {
    "collapsed": false
   },
   "outputs": [],
   "source": [
    "delays_loh = pd.crosstab([ df4['LOH_Grp']],df4.DELAYED.astype(bool))\n",
    "delays_rate_loh = delays_loh.div(delays_loh.sum(1).astype(float),axis=0)\n",
    "\n",
    "#_Vizualization of percentage delay time based on distance category\n",
    "ax = delays_rate_loh.plot(kind='barh',stacked=True)\n",
    "\n",
    "#_Format axis\n",
    "plt.setp(ax.get_xticklabels(), fontsize=12, weight = 'normal', rotation = 0);\n",
    "plt.setp(ax.get_yticklabels(), fontsize=12, weight = 'bold', rotation = 0);\n",
    "plt.xlabel('Percentage', fontsize=16, weight = 'bold', labelpad=10)\n",
    "\n",
    "# Set the legend\n",
    "L = plt.legend()\n",
    "L.get_texts()[0].set_text('On Time')\n",
    "L.get_texts()[1].set_text('Delayed')\n",
    "\n",
    "plt.show()"
   ]
  },
  {
   "cell_type": "markdown",
   "metadata": {},
   "source": [
    "The green bars represent the percent of fligts which we delayed. The chart above suggests that length-of-haul may not have a meaningful impact on the likelihood of a flight being delayed.\n",
    "\n",
    "Lastly, we want to know if the flights are spread across the length-of-haul groupings or concentrated in one or two of them"
   ]
  },
  {
   "cell_type": "code",
   "execution_count": null,
   "metadata": {
    "collapsed": false
   },
   "outputs": [],
   "source": [
    "df_loh = pd.DataFrame(df4.groupby('LOH_Grp').count()['SCHEDULED_ARRIVAL'])\n",
    "\n",
    "#_Vizualization of number of flights delayed based on distance category\n",
    "ax = df_loh.plot(kind='bar',color='B',figsize=(20,6),legend=False)\n",
    "\n",
    "#_Format axis\n",
    "plt.setp(ax.get_yticklabels(), fontsize=12, weight = 'normal', rotation = 0);\n",
    "plt.setp(ax.get_xticklabels(), fontsize=12, weight = 'bold', rotation = 0);\n",
    "plt.ylabel('Number of Flights', fontsize=16, weight = 'bold', labelpad=10)\n",
    "\n",
    "plt.show()"
   ]
  },
  {
   "cell_type": "markdown",
   "metadata": {},
   "source": [
    "As shown above, the largest grouping is 0-500 miles, but each grouping has a large number of observations in it."
   ]
  }
 ],
 "metadata": {
  "kernelspec": {
   "display_name": "Python 3",
   "language": "python",
   "name": "python3"
  },
  "language_info": {
   "codemirror_mode": {
    "name": "ipython",
    "version": 3
   },
   "file_extension": ".py",
   "mimetype": "text/x-python",
   "name": "python",
   "nbconvert_exporter": "python",
   "pygments_lexer": "ipython3",
   "version": "3.6.0"
  }
 },
 "nbformat": 4,
 "nbformat_minor": 2
}
